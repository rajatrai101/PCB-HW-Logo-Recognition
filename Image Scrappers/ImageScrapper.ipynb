{
 "cells": [
  {
   "cell_type": "markdown",
   "metadata": {},
   "source": [
    "# Step1. Import all required libraries"
   ]
  },
  {
   "cell_type": "code",
   "execution_count": null,
   "metadata": {},
   "outputs": [],
   "source": [
    "import os\n",
    "import selenium\n",
    "from selenium import webdriver\n",
    "import time\n",
    "from PIL import Image\n",
    "import io\n",
    "import requests\n",
    "from webdriver_manager.chrome import ChromeDriverManager\n"
   ]
  },
  {
   "cell_type": "code",
   "execution_count": null,
   "metadata": {},
   "outputs": [],
   "source": [
    "# os.chdir('C:\\Users\\Rajat Rai\\Projects\\LogosCNN\\Image Scrapper')"
   ]
  },
  {
   "cell_type": "markdown",
   "metadata": {},
   "source": [
    "# Step2. Install Chrome Driver"
   ]
  },
  {
   "cell_type": "code",
   "execution_count": null,
   "metadata": {},
   "outputs": [],
   "source": [
    "#Install driver\n",
    "opts=webdriver.ChromeOptions()\n",
    "opts.headless=True\n",
    "\n",
    "driver = webdriver.Chrome(ChromeDriverManager().install() ,options=opts)\n"
   ]
  },
  {
   "cell_type": "markdown",
   "metadata": {},
   "source": [
    "# Step4.  Write a function to take cursor to end of the page"
   ]
  },
  {
   "cell_type": "code",
   "execution_count": null,
   "metadata": {},
   "outputs": [],
   "source": [
    "def scroll_to_end(driver):\n",
    "    driver.execute_script(\"window.scrollTo(0, document.body.scrollHeight);\")\n",
    "    time.sleep(5)#sleep_between_interactions   \n",
    "        "
   ]
  },
  {
   "cell_type": "markdown",
   "metadata": {},
   "source": [
    "# Step5. Write a function to get url of each Image"
   ]
  },
  {
   "cell_type": "code",
   "execution_count": null,
   "metadata": {},
   "outputs": [],
   "source": [
    "#no license issues\n",
    "\n",
    "def getImageUrls(name,totalImgs,driver):\n",
    "    \n",
    "    search_url = \"https://www.google.com/search?q={q}&tbm=isch&ved=2ahUKEwj126a6gM_sAhWGSKwKHSPxDz4Q2-cCegQIABAA&oq={q}&gs_lcp=CgNpbWcQAzICCAAyAggAMgIIADIGCAAQBRAeMgYIABAIEB4yBggAEAoQGDoHCCMQ6gIQJzoECCMQJzoFCAAQsQM6CAgAELEDEIMBOgQIABBDOgQIABAYUOnsCliPhAtgpIYLaAFwAHgAgAGRAYgB2weSAQM5LjKYAQCgAQGqAQtnd3Mtd2l6LWltZ7ABCsABAQ&sclient=img&ei=DwyVX7WYJ4aRsQWj4r_wAw&bih=734&biw=1579&hl=en\"\n",
    "    driver.get(search_url.format(q=name))\n",
    "\n",
    "    img_urls = set()\n",
    "    img_count = 0\n",
    "    results_start = 0  \n",
    "    \n",
    "    while(img_count<totalImgs): #Extract actual images now\n",
    "        \n",
    "        scroll_to_end(driver)\n",
    "        \n",
    "        thumbnail_results = driver.find_elements_by_xpath(\"//img[contains(@class,'Q4LuWd')]\")\n",
    "        totalResults=len(thumbnail_results)\n",
    "        print(f\"Found: {totalResults} search results. Extracting links from {results_start}:{totalResults}\")\n",
    "        \n",
    "        for img in thumbnail_results[results_start:totalResults]:\n",
    "            try:\n",
    "                img.click()\n",
    "                time.sleep(2)\n",
    "                actual_images = driver.find_elements_by_css_selector('img.n3VNCb')\n",
    "                for actual_image in actual_images:\n",
    "                    if actual_image.get_attribute('src') and 'https' in actual_image.get_attribute('src'):\n",
    "                        img_urls.add(actual_image.get_attribute('src'))\n",
    "                \n",
    "                img_count=len(img_urls)\n",
    "                \n",
    "                if img_count >= totalImgs:\n",
    "                    print(f\"Found: {img_count} image links\")\n",
    "                    break\n",
    "                else:\n",
    "                    print(\"Found:\", img_count, \"looking for more image links ...\")                \n",
    "                    load_more_button = driver.find_element_by_css_selector(\".mye4qd\")\n",
    "                    driver.execute_script(\"document.querySelector('.mye4qd').click();\")\n",
    "                    results_start = len(thumbnail_results)\n",
    "            except:\n",
    "                pass\n",
    "    return img_urls\n",
    "        "
   ]
  },
  {
   "cell_type": "markdown",
   "metadata": {},
   "source": [
    "# Step6. Write a function to download each Image"
   ]
  },
  {
   "cell_type": "code",
   "execution_count": null,
   "metadata": {},
   "outputs": [],
   "source": [
    "\n",
    "def downloadImages(folder_path,file_name,url):\n",
    "    try:\n",
    "        image_content = requests.get(url).content\n",
    "\n",
    "    except Exception as e:\n",
    "        print(f\"ERROR - COULD NOT DOWNLOAD {url} - {e}\")\n",
    "\n",
    "    try:\n",
    "        image_file = io.BytesIO(image_content)\n",
    "        image = Image.open(image_file).convert('RGB')\n",
    "        \n",
    "        file_path = folder_path + \"\\\\\" + file_name\n",
    "        \n",
    "        with open(file_path, 'wb') as f:\n",
    "            image.save(f, \"JPEG\", quality=85)\n",
    "        print(f\"SAVED - {url} - AT: {file_path}\")\n",
    "    except Exception as e:\n",
    "        print(f\"ERROR - COULD NOT SAVE {url} - {e}\")"
   ]
  },
  {
   "cell_type": "markdown",
   "metadata": {},
   "source": [
    "# Step7. Write a function to save each Image in Destination directory"
   ]
  },
  {
   "cell_type": "code",
   "execution_count": null,
   "metadata": {
    "scrolled": true
   },
   "outputs": [],
   "source": [
    "\n",
    "def saveInDestFolder(searchNames,destDir,totalImgs,driver):\n",
    "    for name in searchNames:\n",
    "        # path=os.path.join(destDir,name)\n",
    "        path=  destDir+name\n",
    "        # print('Current Path',path)\n",
    "        if not os.path.exists(path):\n",
    "            os.mkdir(path)\n",
    "        print('Current Path',path)\n",
    "        totalLinks=getImageUrls(name+\" logo\",totalImgs,driver)\n",
    "        print('totalLinks',totalLinks)\n",
    "\n",
    "        if totalLinks is None:\n",
    "            print('images not found for :',name)\n",
    "            continue\n",
    "        else:\n",
    "            for i, link in enumerate(totalLinks):\n",
    "                file_name = str(i)+\".jpg\"\n",
    "                downloadImages(path,file_name,link)\n",
    "            \n",
    "searchNames=['Altera', 'Analog Devices', 'Digilent Inc', 'Fairchild Semiconductor', 'FTDI', 'General Semiconductors Industries Inc', 'Harris Semiconductors', 'Infineon Technologies', 'Integrated Device Technology', 'Level One', 'Linear Technologies', 'Maxim Integrated Circuit', 'Micron Technologies Inc', 'Mitsubishi Electric Corporation', 'Nvidia', 'ON', 'Pericom Semiconductors', 'Pulse-a Technitrol Co', 'Realtek Semiconductors', 'Samsung Electronics', 'SGS-Thomson', 'Spansion', 'Summit Microelectronics', 'Texas Instruments Inc', 'Xilinx', 'Zilker labs']\n",
    "destDir='.\\\\GoogleImages\\\\'\n",
    "totalImgs=5\n",
    "\n",
    "saveInDestFolder(searchNames,destDir,totalImgs,driver)\n",
    "\n",
    "\n",
    "\n"
   ]
  },
  {
   "cell_type": "code",
   "execution_count": null,
   "metadata": {},
   "outputs": [],
   "source": [
    "##TODO:\n",
    "## Image formats : svg/transparent -> download correctly\n",
    "## Keyword combinations For example : Logo, Secicomductor logos, IC \n",
    "## "
   ]
  }
 ],
 "metadata": {
  "kernelspec": {
   "display_name": "Python 3",
   "language": "python",
   "name": "python3"
  },
  "language_info": {
   "codemirror_mode": {
    "name": "ipython",
    "version": 3
   },
   "file_extension": ".py",
   "mimetype": "text/x-python",
   "name": "python",
   "nbconvert_exporter": "python",
   "pygments_lexer": "ipython3",
   "version": "3.7.7"
  }
 },
 "nbformat": 4,
 "nbformat_minor": 4
}